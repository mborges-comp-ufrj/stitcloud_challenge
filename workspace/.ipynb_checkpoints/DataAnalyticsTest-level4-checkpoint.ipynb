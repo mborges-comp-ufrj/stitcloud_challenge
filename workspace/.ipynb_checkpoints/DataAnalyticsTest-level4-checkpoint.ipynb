{
 "cells": [
  {
   "cell_type": "markdown",
   "id": "9eec3119",
   "metadata": {},
   "source": [
    "# ST IT Cloud - Data and Analytics Test LV.4\n",
    "\n",
    "Esse teste deve avaliar alguns conceitos de big data e a qualidade técnica na manipulacão de dados, otimização de performance, trabalho com arquivos grandes e tratamento de qualidade.\n",
    "\n",
    "## Passo a passo\n",
    "\n",
    "-Disponibilizamos aqui 2 cases para serem desenvolvidos, leia os enunciados dos problemas, desenvolver os programas, utilizando a **stack definida durante o processo seletivo**, para entregar os dados de acordo com os requisitos descritos abaixo.\n",
    "\n",
    "**Faz parte dos critérios de avaliacão a pontualidade da entrega. Implemente até onde for possível dentro do prazo acordado.**\n",
    "\n",
    "**Os dados de pessoas foram gerados de forma aleatória, utilizando a biblioteca FakerJS, FakerJS-BR e Faker**\n",
    "\n",
    "LEMBRE-SE: A entrega deve conter TODOS os passos para o avaliador executar o programa (keep it simple).\n"
   ]
  },
  {
   "cell_type": "markdown",
   "id": "1eb61f06",
   "metadata": {},
   "source": [
    "# TESTE PRÁTICO"
   ]
  },
  {
   "cell_type": "markdown",
   "id": "8ed8c6a5",
   "metadata": {},
   "source": [
    "**Problema 1**: Você está recebendo o arquivo 'dados_cadastrais_fake.csv' que contem dados cadastrais de clientes, mas para que análises ou relatórios sejam feitos é necessário limpar e normalizar os dados. Além disso, existe uma coluna com o número de cpf e outra com cnpj, você precisará padronizar deixando apenas dígitos em formato string (sem caracteres especiais), implementar uma forma de verificar se tais documentos são válidos sendo que a informação deve se adicionada ao dataframe em outras duas novas colunas.\n",
    "\n",
    "Após a normalização, gere reports que respondam as seguintes perguntas:\n",
    "- Quantos clientes temos nessa base?\n",
    "- Qual a média de idade dos clientes?\n",
    "- Quantos clientes nessa base pertencem a cada estado?\n",
    "- Quantos CPFs válidos e inválidos foram encontrados?\n",
    "- Quantos CNPJs válidos e inválidos foram encontrados?\n",
    "\n",
    "Ao final gere um arquivo no formato csv e um outro arquivo no formato parquet chamado (problema1_normalizado), eles serão destinados para pessoas distintas.\n"
   ]
  },
  {
   "cell_type": "code",
   "execution_count": 176,
   "id": "3b1b6c2d",
   "metadata": {},
   "outputs": [],
   "source": [
    "from pyspark.sql import SparkSession\n",
    "from pyspark.sql.types import BooleanType\n",
    "from pyspark.sql.functions import initcap, regexp_replace, ltrim, rtrim, col, udf"
   ]
  },
  {
   "cell_type": "code",
   "execution_count": 151,
   "id": "e1ebef52-7b8a-4cf4-89a1-41fd0d14948c",
   "metadata": {},
   "outputs": [],
   "source": [
    "# STARTS SPARK SESSION\n",
    "spark = SparkSession.builder.appName(\"PROGRAMA1\").getOrCreate()"
   ]
  },
  {
   "cell_type": "code",
   "execution_count": 152,
   "id": "0a72c04c-555f-4ed9-ad04-09d17c9d175f",
   "metadata": {},
   "outputs": [
    {
     "name": "stdout",
     "output_type": "stream",
     "text": [
      "+------------------+-----+-------------------+----------------+--------------+------------------+\n",
      "|             nomes|idade|             cidade|          estado|           cpf|              cnpj|\n",
      "+------------------+-----+-------------------+----------------+--------------+------------------+\n",
      "|    Dennis Daniels|   31|         ACRELÂNDIA|              AC|   97566536800|    06589184909526|\n",
      "|       Leah Becker|   42|        ÁGUA BRANCA|              AL|425.263.807-07|25.673.336/2350-20|\n",
      "|        Sally Ford|   18|           ALVARÃES|              AM|   34647754103|    26543101702989|\n",
      "|    Colleen Duncan|   21|     SERRA DO NAVIO|              AP|252.531.560-03|19.062.080/5100-98|\n",
      "|   Jeff Stephenson|   73|             ABAÍRA|              BA|   49668886542|    97794530015384|\n",
      "|     Sydney Curtis|   85|            ABAIARA|              CE|506.202.907-49|29.476.298/0856-78|\n",
      "|    Kelly Matthews|   44|           Brasília|distrito federal|   39154836808|    24709301957761|\n",
      "|         Juan Ruiz|   39|     AFONSO CLÁUDIO|              ES|226.881.196-48|02.420.338/1479-00|\n",
      "|      Brian Thomas|   26|    ABADIA DE GOIÁS|              GO|   47475484084|    70723419110335|\n",
      "|        Sara Ayers|   62|         AÇAILÂNDIA|              MA|948.309.788-64|88.253.689/5483-82|\n",
      "|        Brady Cruz|   83|ABADIA DOS DOURADOS|              MG|   03438452456|    13118105069639|\n",
      "|   Samantha Wright|   32|         ÁGUA CLARA|              MS|222.036.540-90|04.310.317/3202-52|\n",
      "|    Richard Turner|   85|           ACORIZAL|              MT|   79059712285|    75595541223248|\n",
      "|    Ashley Sanders|   73|         ABAETETUBA|              PA|752.065.139-89|06.923.815/1651-28|\n",
      "|      Thomas Jones|   45|        ÁGUA BRANCA|              PB|   34565179806|    26574533273304|\n",
      "|        Ian Murray|   68|       ABREU E LIMA|              PE|152.777.170-99|85.202.887/3688-51|\n",
      "|     Janice Jensen|   79|              ACAUÃ|              PI|   45081993646|    89596067898809|\n",
      "|Jeffrey Cunningham|   48|             ABATIÁ|              PR|665.490.288-25|18.866.688/3442-42|\n",
      "|      Amanda Glass|   49|     ANGRA DOS REIS|              RJ|   86173803577|    87380936406714|\n",
      "|   Kaitlyn Johnson|   65|              ACARI|              RN|897.370.042-13|40.893.546/7414-94|\n",
      "+------------------+-----+-------------------+----------------+--------------+------------------+\n",
      "only showing top 20 rows\n",
      "\n"
     ]
    }
   ],
   "source": [
    "# LOADS CSV\n",
    "df = spark.read.option(\"header\", True).option(\"delimiter\", \";\").option(\"inferSchema\", True).csv(\"dados_cadastrais_fake.csv\")\n",
    "df.show()"
   ]
  },
  {
   "cell_type": "code",
   "execution_count": 153,
   "id": "4979bf06-7743-45ee-9075-132d809b1f31",
   "metadata": {},
   "outputs": [
    {
     "name": "stdout",
     "output_type": "stream",
     "text": [
      "+----------------------+-----+-------------------+------+--------------+------------------+\n",
      "|nomes                 |idade|cidade             |estado|cpf           |cnpj              |\n",
      "+----------------------+-----+-------------------+------+--------------+------------------+\n",
      "|Mr. Andrew Chapman MD |55   |ABDON BATISTA      |SC    |645.976.852-86|26.848.890/5356-10|\n",
      "|Mrs. Yesenia Barrett  |88   |ÁGUA BRANCA        |AL    |746.102.105-25|50.800.865/6979-77|\n",
      "|Dr. Jennifer Williams |36   |SERRA DO NAVIO     |AP    |443.310.261-08|48.607.469/0454-82|\n",
      "|Mr. Jesse Fletcher    |21   |ABADIA DOS DOURADOS|MG    |812.821.490-08|48.249.914/7290-01|\n",
      "|Mr. Derrick Walker III|67   |SERRA DO NAVIO     |AP    |867.098.157-22|72.983.983/2334-06|\n",
      "|Mr. Charles Schwartz  |47   |ÁGUA BRANCA        |PB    |01473369290   |78060778010570    |\n",
      "|Mrs. Suzanne Peters   |19   |ACRELÂNDIA         |AC    |81433726181   |29592536264459    |\n",
      "|Mrs. Angela Hernandez |34   |AFONSO CLÁUDIO     |ES    |967.654.794-81|78.156.668/0031-35|\n",
      "|Mrs. Tammy Travis DVM |43   |ACEGUÁ             |RS    |77616620965   |91272021853866    |\n",
      "|Dr. Dawn Garcia       |66   |ABAETETUBA         |PA    |05734959472   |28275990028361    |\n",
      "+----------------------+-----+-------------------+------+--------------+------------------+\n",
      "only showing top 10 rows\n",
      "\n"
     ]
    }
   ],
   "source": [
    "#IDENTIFIES DIRTY DATA FOR NAMES\n",
    "df.filter(\n",
    "    ~col(\"nomes\").rlike(\"^([A-Z]([-']?[a-z]+))([ ]([A-Z]([-']?[a-z]+)[.]?)?([A-Z]+)?)*$\")\n",
    ").show(10, False)"
   ]
  },
  {
   "cell_type": "code",
   "execution_count": 154,
   "id": "2566a65e-47ea-4e5c-8c3b-2bbbd9443d0f",
   "metadata": {},
   "outputs": [],
   "source": [
    "# CLEAN NAMES\n",
    "\n",
    "# Capitalize all names\n",
    "df = df.withColumn(\"nomes\", initcap(col(\"nomes\")))\n",
    "\n",
    "# Take out prefixes (Mr., Dr., Miss, (...))\n",
    "df = df.withColumn(\"nomes\", regexp_replace(col(\"nomes\"), \"^[A-Z][a-z]*[.][ ]\", \"\"))\n",
    "df = df.withColumn(\"nomes\", regexp_replace(col(\"nomes\"), \"^Miss[ ]\", \"\"))"
   ]
  },
  {
   "cell_type": "code",
   "execution_count": 155,
   "id": "ade99032-ba87-42c7-b0fb-5f865b72b590",
   "metadata": {},
   "outputs": [
    {
     "name": "stdout",
     "output_type": "stream",
     "text": [
      "+-----+-----+------+------+---+----+\n",
      "|nomes|idade|cidade|estado|cpf|cnpj|\n",
      "+-----+-----+------+------+---+----+\n",
      "+-----+-----+------+------+---+----+\n",
      "\n"
     ]
    }
   ],
   "source": [
    "#IDENTIFIES DIRTY DATA FOR AGES\n",
    "df.filter(\n",
    "    (col(\"idade\").cast(\"int\").isNull()) | (col(\"idade\").cast(\"int\") <= 0) | (col(\"idade\").cast(\"int\") > 100)\n",
    ").show(10, False)"
   ]
  },
  {
   "cell_type": "code",
   "execution_count": 156,
   "id": "d773aaf9-9884-4403-8bdf-38441c3499e1",
   "metadata": {},
   "outputs": [],
   "source": [
    "# CLEAN AGES"
   ]
  },
  {
   "cell_type": "code",
   "execution_count": 157,
   "id": "07f942f3-bd4b-402d-8954-be51c99d7a06",
   "metadata": {},
   "outputs": [
    {
     "name": "stdout",
     "output_type": "stream",
     "text": [
      "+-----+-----+------+------+---+----+\n",
      "|nomes|idade|cidade|estado|cpf|cnpj|\n",
      "+-----+-----+------+------+---+----+\n",
      "+-----+-----+------+------+---+----+\n",
      "\n"
     ]
    }
   ],
   "source": [
    "#IDENTIFIES DIRTY DATA FOR CITIES\n",
    "df.filter(\n",
    "    ~col(\"cidade\").rlike(\"^[\\\\p{L}]+([ ]([A-Z]['])?[\\\\p{L}]+)*$\")\n",
    ").show(10, False)"
   ]
  },
  {
   "cell_type": "code",
   "execution_count": 158,
   "id": "d8c2ba3d-5f85-4f83-b689-8117a3866bd5",
   "metadata": {},
   "outputs": [],
   "source": [
    "# CLEAN CITIES\n",
    "\n",
    "# Capitalize all cities\n",
    "df = df.withColumn(\"cidade\", initcap(col(\"cidade\")))"
   ]
  },
  {
   "cell_type": "code",
   "execution_count": 159,
   "id": "e7676f84-40dd-4ae7-a996-2e9918f7195d",
   "metadata": {},
   "outputs": [
    {
     "name": "stdout",
     "output_type": "stream",
     "text": [
      "+-----------------+-----+----------+----------------+--------------+------------------+\n",
      "|nomes            |idade|cidade    |estado          |cpf           |cnpj              |\n",
      "+-----------------+-----+----------+----------------+--------------+------------------+\n",
      "|Kelly Matthews   |44   |Brasília  |distrito federal|39154836808   |24709301957761    |\n",
      "|Michelle Sullivan|45   |Brasília  |distrito federal|603.384.507-26|18.355.115/6493-65|\n",
      "|Cindy Brown      |28   |Brasília  |distrito federal|11561438537   |89158131394480    |\n",
      "|Patricia Meyer Md|31   |Brasília  |distrito federal|432.435.813-38|68.879.919/2769-85|\n",
      "|Christopher Young|38   |Brasília  |distrito federal|24594975984   |71848458367870    |\n",
      "|Elizabeth Miller |79   |Brasília  |distrito federal|723.509.900-36|41.178.451/8696-87|\n",
      "|Barbara Leon Md  |73   |Adamantina|sao  paulo      |05086323231   |98992168836002    |\n",
      "|Stephen Torres   |48   |Adamantina|sao  paulo      |922.545.994-70|51.006.075/0099-24|\n",
      "|Kelli Poole      |22   |Adamantina|sao  paulo      |34228364209   |97538603622850    |\n",
      "|Michael Castillo |89   |Adamantina|são  paulo      |111.618.361-79|76.065.114/0666-03|\n",
      "+-----------------+-----+----------+----------------+--------------+------------------+\n",
      "only showing top 10 rows\n",
      "\n"
     ]
    }
   ],
   "source": [
    "#IDENTIFIES DIRTY DATA FOR STATES\n",
    "states_list = [\"AC\", \"AL\", \"AP\", \"AM\", \"BA\", \"CE\", \"DF\", \"ES\", \"GO\", \"MA\", \"MT\", \"MS\", \"MG\", \"PA\", \"PB\", \"PR\", \"PE\", \"PI\", \"RJ\", \"RN\", \"RS\", \"RO\", \"RR\", \"SC\", \"SP\", \"SE\", \"TO\"]\n",
    "df.filter(\n",
    "    ~col(\"estado\").isin(states_list)\n",
    ").show(10, False)"
   ]
  },
  {
   "cell_type": "code",
   "execution_count": 160,
   "id": "04b89e54-0b40-4c65-8752-df6d06003ccf",
   "metadata": {},
   "outputs": [],
   "source": [
    "# CLEAN STATES\n",
    "\n",
    "# Remove spaces\n",
    "df = df.withColumn(\"estado\", ltrim(rtrim(col(\"estado\"))))\n",
    "\n",
    "# Change name to initials\n",
    "df = df.withColumn(\"estado\", regexp_replace(col(\"estado\"), \"distrito federal\", \"DF\"))\n",
    "df = df.withColumn(\"estado\", regexp_replace(col(\"estado\"), \"sao  paulo\", \"SP\"))\n",
    "df = df.withColumn(\"estado\", regexp_replace(col(\"estado\"), \"são  paulo\", \"SP\"))\n",
    "df = df.withColumn(\"estado\", regexp_replace(col(\"estado\"), \"rio de  janeiro\", \"RJ\"))\n",
    "df = df.withColumn(\"estado\", regexp_replace(col(\"estado\"), \"MINAS GERAI\", \"MG\"))\n",
    "df = df.withColumn(\"estado\", regexp_replace(col(\"estado\"), \"MGs\", \"MG\"))"
   ]
  },
  {
   "cell_type": "code",
   "execution_count": 161,
   "id": "502c5b28-5b52-46cd-b7f2-332529ee5a81",
   "metadata": {},
   "outputs": [
    {
     "name": "stdout",
     "output_type": "stream",
     "text": [
      "+-----+-----+------+------+---+----+\n",
      "|nomes|idade|cidade|estado|cpf|cnpj|\n",
      "+-----+-----+------+------+---+----+\n",
      "+-----+-----+------+------+---+----+\n",
      "\n"
     ]
    }
   ],
   "source": [
    "#IDENTIFIES DIRTY DATA FOR CPF\n",
    "\n",
    "# Only digits\n",
    "df = df.withColumn(\"cpf\", regexp_replace(col(\"cpf\"), \"[^0-9]\", \"\"))\n",
    "\n",
    "df.filter(\n",
    "    ~col(\"cpf\").rlike(\"^[\\\\d]{11}$\")\n",
    ").show(10, False)"
   ]
  },
  {
   "cell_type": "code",
   "execution_count": 27,
   "id": "da67c29c-3af3-4915-aff4-55474df21fd9",
   "metadata": {},
   "outputs": [],
   "source": [
    "# CLEAN CPF"
   ]
  },
  {
   "cell_type": "code",
   "execution_count": 163,
   "id": "b1a9f516-a774-4f15-9e53-05fd6cc25b22",
   "metadata": {},
   "outputs": [
    {
     "name": "stdout",
     "output_type": "stream",
     "text": [
      "+-----+-----+------+------+---+----+\n",
      "|nomes|idade|cidade|estado|cpf|cnpj|\n",
      "+-----+-----+------+------+---+----+\n",
      "+-----+-----+------+------+---+----+\n",
      "\n"
     ]
    }
   ],
   "source": [
    "#IDENTIFIES DIRTY DATA FOR CNPJ\n",
    "\n",
    "# Only digits\n",
    "df = df.withColumn(\"cnpj\", regexp_replace(col(\"cnpj\"), \"[^0-9]\", \"\"))\n",
    "\n",
    "df.filter(\n",
    "    ~col(\"cnpj\").rlike(\"^[\\\\d]{14}$\")\n",
    ").show(10, False)"
   ]
  },
  {
   "cell_type": "code",
   "execution_count": 164,
   "id": "af914c49-7101-4c7e-932f-fb54a52940f0",
   "metadata": {},
   "outputs": [
    {
     "data": {
      "text/plain": [
       "10000"
      ]
     },
     "execution_count": 164,
     "metadata": {},
     "output_type": "execute_result"
    }
   ],
   "source": [
    "# How many clients do we have?\n",
    "df.count()"
   ]
  },
  {
   "cell_type": "code",
   "execution_count": 166,
   "id": "60a91bae-9f0f-4705-a51f-e9a7eadafbac",
   "metadata": {},
   "outputs": [
    {
     "name": "stdout",
     "output_type": "stream",
     "text": [
      "+----------+\n",
      "|avg(idade)|\n",
      "+----------+\n",
      "|   53.7831|\n",
      "+----------+\n",
      "\n"
     ]
    }
   ],
   "source": [
    "# What is the clients ages average?\n",
    "df.agg({\"idade\": \"avg\"}).show()"
   ]
  },
  {
   "cell_type": "code",
   "execution_count": 172,
   "id": "6c008e90-aa70-42ea-9fb2-f2fb41c8e5dc",
   "metadata": {},
   "outputs": [
    {
     "name": "stdout",
     "output_type": "stream",
     "text": [
      "+------+-----+\n",
      "|estado|count|\n",
      "+------+-----+\n",
      "|    SC|  370|\n",
      "|    RO|  370|\n",
      "|    PI|  370|\n",
      "|    AM|  371|\n",
      "|    RR|  370|\n",
      "|    GO|  371|\n",
      "|    TO|  370|\n",
      "|    MT|  370|\n",
      "|    SP|  370|\n",
      "|    ES|  371|\n",
      "|    PB|  370|\n",
      "|    RS|  370|\n",
      "|    MS|  370|\n",
      "|    AL|  371|\n",
      "|    MG|  370|\n",
      "|    PA|  370|\n",
      "|    BA|  371|\n",
      "|    SE|  370|\n",
      "|    PE|  370|\n",
      "|    CE|  371|\n",
      "|    RN|  370|\n",
      "|    RJ|  370|\n",
      "|    MA|  371|\n",
      "|    AC|  371|\n",
      "|    DF|  371|\n",
      "|    PR|  370|\n",
      "|    AP|  371|\n",
      "+------+-----+\n",
      "\n"
     ]
    }
   ],
   "source": [
    "# How many clients by state?\n",
    "df.groupBy(\"estado\").count().show(30)"
   ]
  },
  {
   "cell_type": "code",
   "execution_count": 177,
   "id": "22e5af8a-10d2-4fbd-9a66-8aa438c742ab",
   "metadata": {},
   "outputs": [
    {
     "name": "stdout",
     "output_type": "stream",
     "text": [
      "+---------+-----+\n",
      "|cpf_valid|count|\n",
      "+---------+-----+\n",
      "|     true| 9999|\n",
      "|    false|    1|\n",
      "+---------+-----+\n",
      "\n"
     ]
    }
   ],
   "source": [
    "# How many valid and invalid CPF found?\n",
    "\n",
    "def cpf_is_valid(cpf):\n",
    "    cpf_numbers = [int(char) for char in cpf]\n",
    "    \n",
    "    # Validates CPF all same digits\n",
    "    if cpf_numbers == cpf_numbers[::-1]:\n",
    "        return False\n",
    "\n",
    "    #  Validates last two digits\n",
    "    for i in range(9, 11):\n",
    "        value = sum((cpf_numbers[num] * ((i+1) - num) for num in range(0, i)))\n",
    "        digit = ((value * 10) % 11) % 10\n",
    "        if digit != cpf_numbers[i]:\n",
    "            return False\n",
    "    return True\n",
    "\n",
    "cpf_is_valid_udf = udf(lambda x: cpf_is_valid(x), BooleanType())\n",
    "df.withColumn(\"cpf_valid\", cpf_is_valid_udf(col(\"cpf\"))).groupBy(\"cpf_valid\").count().show()"
   ]
  },
  {
   "cell_type": "code",
   "execution_count": 178,
   "id": "bd6b6947-708d-47dd-827b-1f9f89f0bb8b",
   "metadata": {},
   "outputs": [
    {
     "name": "stdout",
     "output_type": "stream",
     "text": [
      "+----------+-----+\n",
      "|cnpj_valid|count|\n",
      "+----------+-----+\n",
      "|      true|10000|\n",
      "+----------+-----+\n",
      "\n"
     ]
    }
   ],
   "source": [
    "# How many valid and invalid CNPJ found?\n",
    "\n",
    "def cnpj_is_valid(cnpj):\n",
    "    cnpj_numbers = [int(char) for char in cnpj]\n",
    "    \n",
    "    if len(cnpj_numbers) != 14:\n",
    "        return False\n",
    "    \n",
    "    # Validates CNPJ all same digits\n",
    "    if cnpj_numbers == cnpj_numbers[::-1]:\n",
    "        return False\n",
    "\n",
    "    #  Validates last two digits\n",
    "    prod = [5, 4, 3, 2, 9, 8, 7, 6, 5, 4, 3, 2]\n",
    "    beginning =  cnpj_numbers[:12]\n",
    "    while len(beginning) < 14:\n",
    "        r = sum([x*y for (x, y) in zip(beginning, prod)]) % 11\n",
    "        if r > 1:\n",
    "            f = 11 - r\n",
    "        else:\n",
    "            f = 0\n",
    "        beginning.append(f)\n",
    "        prod.insert(0, 6)\n",
    "    \n",
    "    if beginning != cnpj_numbers:\n",
    "        return False\n",
    "        \n",
    "    return True\n",
    "\n",
    "cnpj_is_valid_udf = udf(lambda x: cnpj_is_valid(x), BooleanType())\n",
    "df.withColumn(\"cnpj_valid\", cnpj_is_valid_udf(col(\"cnpj\"))).groupBy(\"cnpj_valid\").count().show()"
   ]
  },
  {
   "cell_type": "code",
   "execution_count": 179,
   "id": "5d8fb48e-8711-4b21-9bdd-b10e4cdcee3f",
   "metadata": {},
   "outputs": [
    {
     "name": "stdout",
     "output_type": "stream",
     "text": [
      "+------------------+-----+-------------------+------+-----------+--------------+\n",
      "|             nomes|idade|             cidade|estado|        cpf|          cnpj|\n",
      "+------------------+-----+-------------------+------+-----------+--------------+\n",
      "|    Dennis Daniels|   31|         Acrelândia|    AC|97566536800|06589184909526|\n",
      "|       Leah Becker|   42|        Água Branca|    AL|42526380707|25673336235020|\n",
      "|        Sally Ford|   18|           Alvarães|    AM|34647754103|26543101702989|\n",
      "|    Colleen Duncan|   21|     Serra Do Navio|    AP|25253156003|19062080510098|\n",
      "|   Jeff Stephenson|   73|             Abaíra|    BA|49668886542|97794530015384|\n",
      "|     Sydney Curtis|   85|            Abaiara|    CE|50620290749|29476298085678|\n",
      "|    Kelly Matthews|   44|           Brasília|    DF|39154836808|24709301957761|\n",
      "|         Juan Ruiz|   39|     Afonso Cláudio|    ES|22688119648|02420338147900|\n",
      "|      Brian Thomas|   26|    Abadia De Goiás|    GO|47475484084|70723419110335|\n",
      "|        Sara Ayers|   62|         Açailândia|    MA|94830978864|88253689548382|\n",
      "|        Brady Cruz|   83|Abadia Dos Dourados|    MG|03438452456|13118105069639|\n",
      "|   Samantha Wright|   32|         Água Clara|    MS|22203654090|04310317320252|\n",
      "|    Richard Turner|   85|           Acorizal|    MT|79059712285|75595541223248|\n",
      "|    Ashley Sanders|   73|         Abaetetuba|    PA|75206513989|06923815165128|\n",
      "|      Thomas Jones|   45|        Água Branca|    PB|34565179806|26574533273304|\n",
      "|        Ian Murray|   68|       Abreu E Lima|    PE|15277717099|85202887368851|\n",
      "|     Janice Jensen|   79|              Acauã|    PI|45081993646|89596067898809|\n",
      "|Jeffrey Cunningham|   48|             Abatiá|    PR|66549028825|18866688344242|\n",
      "|      Amanda Glass|   49|     Angra Dos Reis|    RJ|86173803577|87380936406714|\n",
      "|   Kaitlyn Johnson|   65|              Acari|    RN|89737004213|40893546741494|\n",
      "+------------------+-----+-------------------+------+-----------+--------------+\n",
      "only showing top 20 rows\n",
      "\n"
     ]
    }
   ],
   "source": [
    "df.show()"
   ]
  },
  {
   "cell_type": "markdown",
   "id": "a2da9c40",
   "metadata": {},
   "source": [
    "**Problema 2**: Você deverá implementar um programa, para ler, tratar e particionar os dados.\n",
    "\n",
    "O arquivo fonte está disponível em `https://st-it-cloud-public.s3.amazonaws.com/people-v2_1E6.csv.gz`\n",
    "\n",
    "### Data Quality\n",
    "\n",
    "- Higienizar e homogenizar o formato da coluna `document`\n",
    "- Detectar através da coluna `document` se o registro é de uma Pessoa Física ou Pessoa Jurídica, adicionando uma coluna com essa informação\n",
    "- Higienizar e homogenizar o formato da coluna `birthDate`\n",
    "- Existem duas colunas nesse dataset que em alguns registros estão trocadas. Quais são essas colunas? \n",
    "- Corrigir os dados com as colunas trocadas\n",
    "- Além desses pontos, existem outras tratamentos para homogenizar esse dataset. Aplique todos que conseguir.\n",
    "\n",
    "### Agregação dos dados\n",
    "\n",
    "- Quais são as 5 PF que mais gastaram (`totalSpent`)? \n",
    "- Qual é o valor de gasto médio por estado (`state`)?\n",
    "- Qual é o valor de gasto médio por `jobArea`?\n",
    "- Qual é a PF que gastou menos (`totalSpent`)?\n",
    "- Quantos nomes e documentos repetidos existem nesse dataset?\n",
    "- Quantas linhas existem nesse dataset?\n",
    "\n",
    "### Particionamento de dados tratados com as regras descritas em `DATA QUALITY`\n",
    "\n",
    "- Particionar em arquivos PARQUET por estado (`state`)\n",
    "- Particionar em arquivos CSV por ano/mes/dia de nascimento (`birthDate`)"
   ]
  },
  {
   "cell_type": "code",
   "execution_count": null,
   "id": "2277f816",
   "metadata": {},
   "outputs": [],
   "source": []
  }
 ],
 "metadata": {
  "kernelspec": {
   "display_name": "Python 3 (ipykernel)",
   "language": "python",
   "name": "python3"
  },
  "language_info": {
   "codemirror_mode": {
    "name": "ipython",
    "version": 3
   },
   "file_extension": ".py",
   "mimetype": "text/x-python",
   "name": "python",
   "nbconvert_exporter": "python",
   "pygments_lexer": "ipython3",
   "version": "3.10.5"
  }
 },
 "nbformat": 4,
 "nbformat_minor": 5
}
